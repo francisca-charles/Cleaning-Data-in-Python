{
 "cells": [
  {
   "cell_type": "markdown",
   "id": "c241fd78",
   "metadata": {},
   "source": [
    "# Cleaning Data In Python"
   ]
  },
  {
   "cell_type": "markdown",
   "id": "b5c7d752",
   "metadata": {},
   "source": [
    "## Data Type Constraints\n",
    "\n",
    "### Numeric data or ... ?\n",
    "\n",
    "\n",
    "In this exercise, and throughout this chapter, you'll be working with bicycle ride sharing data in San Francisco called ride_sharing. It contains information on the start and end stations, the trip duration, and some user information for a bike sharing service.\n",
    "\n",
    "The user_type column contains information on whether a user is taking a free ride and takes on the following values:\n",
    "\n",
    "1 for free riders.\n",
    "2 for pay per ride.\n",
    "3 for monthly subscribers.\n",
    "In this instance, you will print the information of ride_sharing using .info() and see a firsthand example of how an incorrect data type can flaw your analysis of the dataset. The pandas package is imported as pd.\n",
    "\n",
    "\n",
    "\n",
    "#### Instruction\n",
    "\n",
    "- Print the information of ride_sharing.\n",
    "- Use .describe() to print the summary statistics of the user_type column from ride_sharing"
   ]
  },
  {
   "cell_type": "code",
   "execution_count": null,
   "id": "e96aced9",
   "metadata": {},
   "outputs": [],
   "source": [
    "# Print the information of ride_sharing\n",
    "print(ride_sharing.info())\n",
    "\n",
    "# Print summary statistics of user_type column\n",
    "print(ride_sharing['user_type'].describe())"
   ]
  },
  {
   "cell_type": "markdown",
   "id": "306e286c",
   "metadata": {},
   "source": [
    "### Summing strings and concatenating numbers\n",
    "\n",
    "In the previous exercise, you were able to identify that category is the correct data type for user_type and convert it in order to extract relevant statistical summaries that shed light on the distribution of user_type.\n",
    "\n",
    "Another common data type problem is importing what should be numerical values as strings, as mathematical operations such as summing and multiplication lead to string concatenation, not numerical outputs.\n",
    "\n",
    "In this exercise, you'll be converting the string column duration to the type int. Before that however, you will need to make sure to strip \"minutes\" from the column in order to make sure pandas reads it as numerical. The pandas package has been imported as pd.\n",
    "\n",
    "#### Instructions\n",
    "\n",
    "- Use the .strip() method to strip duration of \"minutes\" and store it in the duration_trim column.\n",
    "- Convert duration_trim to int and store it in the duration_time column.\n",
    "- Write an assert statement that checks if duration_time's data type is now an int.\n",
    "- Print the average ride duration."
   ]
  },
  {
   "cell_type": "code",
   "execution_count": null,
   "id": "1e0611c1",
   "metadata": {},
   "outputs": [],
   "source": [
    "# Strip duration of minutes\n",
    "ride_sharing['duration_trim'] = ride_sharing['duration'].str.strip('minutes')\n",
    "ride_sharing['duration_time'] = ride_sharing['duration_trim'].astype('int')\n",
    "# Write an assert statement making sure of conversion\n",
    "assert ride_sharing['duration_time'].dtype== 'int'\n",
    "# Print formed columns and calculate average ride duration \n",
    "print(ride_sharing[['duration','duration_trim','duration_time']])\n",
    "print(ride_sharing['duration_time'].mean())"
   ]
  },
  {
   "cell_type": "markdown",
   "id": "93a265f3",
   "metadata": {},
   "source": [
    "## Data Range Constraints\n",
    "\n",
    "### Tire size constraints\n",
    "\n",
    "\n",
    "In this lesson, you're going to build on top of the work you've been doing with the ride_sharing DataFrame. You'll be working with the tire_sizes column which contains data on each bike's tire size.\n",
    "\n",
    "Bicycle tire sizes could be either 26″, 27″ or 29″ and are here correctly stored as a categorical value. In an effort to cut maintenance costs, the ride sharing provider decided to set the maximum tire size to be 27″.\n",
    "\n",
    "In this exercise, you will make sure the tire_sizes column has the correct range by first converting it to an integer, then setting and testing the new upper limit of 27″ for tire sizes.\n",
    "\n",
    "#### Instructions\n",
    "\n",
    "- Convert the tire_sizes column from category to 'int'.\n",
    "- Use .loc[] to set all values of tire_sizes above 27 to 27.\n",
    "- Reconvert back tire_sizes to 'category' from int.\n",
    "- Print the description of the tire_sizes."
   ]
  },
  {
   "cell_type": "code",
   "execution_count": null,
   "id": "bcada4d6",
   "metadata": {},
   "outputs": [],
   "source": [
    "# Convert tire_sizes to integer\n",
    "ride_sharing['tire_sizes'] = ride_sharing['tire_sizes'].astype('int')\n",
    "\n",
    "# Set all values above 27 to 27\n",
    "ride_sharing.loc[ride_sharing['tire_sizes'] > 27, 'tire_sizes'] = 27\n",
    "\n",
    "# Reconvert tire_sizes back to categorical\n",
    "ride_sharing['tire_sizes'] = ride_sharing['tire_sizes'].astype('category')\n",
    "# Print tire size description\n",
    "print(ride_sharing['tire_sizes'].describe())"
   ]
  },
  {
   "cell_type": "markdown",
   "id": "82a89d1b",
   "metadata": {},
   "source": [
    "### Back to the future\n",
    "\n",
    "A new update to the data pipeline feeding into the ride_sharing DataFrame has been updated to register each ride's date. This information is stored in the ride_date column of the type object, which represents strings in pandas.\n",
    "\n",
    "A bug was discovered which was relaying rides taken today as taken next year. To fix this, you will find all instances of the ride_date column that occur anytime in the future, and set the maximum possible value of this column to today's date. Before doing so, you would need to convert ride_date to a datetime object.\n",
    "\n",
    "The datetime package has been imported as dt, alongside all the packages you've been using till now.\n",
    "\n",
    "#### Instructions\n",
    "\n",
    "- Convert ride_date to a datetime object using to_datetime(), then convert the datetime object into a date and store it in ride_dt column.\n",
    "- Create the variable today, which stores today's date by using the dt.date.today() function.\n",
    "- For all instances of ride_dt in the future, set them to today's date.\n",
    "- Print the maximum date in the ride_dt column."
   ]
  },
  {
   "cell_type": "code",
   "execution_count": null,
   "id": "f4a61ac3",
   "metadata": {},
   "outputs": [],
   "source": [
    "# Convert ride_date to date\n",
    "ride_sharing['ride_dt'] = pd.to_datetime(ride_sharing['ride_date']).dt.date\n",
    "# Save today's date\n",
    "today = dt.date.today()\n",
    "# Set all in the future to today's date\n",
    "ride_sharing.loc[ride_sharing['ride_dt'] > today, 'ride_dt'] = today\n",
    "# Print maximum of ride_dt column\n",
    "print(ride_sharing['ride_dt'].max())"
   ]
  },
  {
   "cell_type": "markdown",
   "id": "b366d332",
   "metadata": {},
   "source": [
    "## Uniqueness Constraints\n",
    "\n",
    "### Finding duplicates\n",
    "\n",
    "A new update to the data pipeline feeding into ride_sharing has added the ride_id column, which represents a unique identifier for each ride.\n",
    "\n",
    "The update however coincided with radically shorter average ride duration times and irregular user birth dates set in the future. Most importantly, the number of rides taken has increased by 20% overnight, leading you to think there might be both complete and incomplete duplicates in the ride_sharing DataFrame.\n",
    "\n",
    "In this exercise, you will confirm this suspicion by finding those duplicates. A sample of ride_sharing is in your environment, as well as all the packages you've been working with thus far.\n",
    "\n",
    "#### Instructions\n",
    "\n",
    "- Find duplicated rows of ride_id in the ride_sharing DataFrame while setting keep to False.\n",
    "- Subset ride_sharing on duplicates and sort by ride_id and assign the results to duplicated_rides.\n",
    "- Print the ride_id, duration and user_birth_year columns of duplicated_rides in that order."
   ]
  },
  {
   "cell_type": "code",
   "execution_count": null,
   "id": "20049bed",
   "metadata": {},
   "outputs": [],
   "source": [
    "# Find duplicates\n",
    "duplicates = ride_sharing.duplicated(subset = 'ride_id' , keep = False)\n",
    "# Sort your duplicated rides\n",
    "duplicated_rides = ride_sharing[duplicates].sort_values(by = 'ride_id')\n",
    "# Print relevant columns of duplicated_rides\n",
    "print(duplicated_rides[['ride_id','duration','user_birth_year']])"
   ]
  },
  {
   "cell_type": "markdown",
   "id": "588e66be",
   "metadata": {},
   "source": [
    "### Treating duplicates\n",
    "\n",
    "In the last exercise, you were able to verify that the new update feeding into ride_sharing contains a bug generating both complete and incomplete duplicated rows for some values of the ride_id column, with occasional discrepant values for the user_birth_year and duration columns.\n",
    "\n",
    "In this exercise, you will be treating those duplicated rows by first dropping complete duplicates, and then merging the incomplete duplicate rows into one while keeping the average duration, and the minimum user_birth_year for each set of incomplete duplicate rows.\n",
    "\n",
    "#### Instructions\n",
    "\n",
    "- Drop complete duplicates in ride_sharing and store the results in ride_dup.\n",
    "- Create the statistics dictionary which holds minimum aggregation for user_birth_year and mean aggregation for duration.\n",
    "- Drop incomplete duplicates by grouping by ride_id and applying the aggregation in statistics.\n",
    "- Find duplicates again and run the assert statement to verify de-duplication."
   ]
  },
  {
   "cell_type": "code",
   "execution_count": null,
   "id": "2549644a",
   "metadata": {},
   "outputs": [],
   "source": [
    "# Drop complete duplicates from ride_sharing\n",
    "ride_dup =ride_sharing.drop_duplicates()\n",
    "# Create statistics dictionary for aggregation function\n",
    "statistics = {'user_birth_year': 'min', 'duration': 'mean'}\n",
    "# Group by ride_id and compute new statistics\n",
    "ride_unique = ride_dup.groupby('ride_id').agg(statistics).reset_index()\n",
    "# Find duplicated values again\n",
    "duplicates = ride_unique.duplicated(subset = 'ride_id', keep = False)\n",
    "duplicated_rides = ride_unique[duplicates == True]\n",
    "\n",
    "# Assert duplicates are processed\n",
    "assert duplicated_rides.shape[0] == 0"
   ]
  },
  {
   "cell_type": "markdown",
   "id": "be51bc3c",
   "metadata": {},
   "source": [
    "## Membership Constraints\n",
    "\n",
    "### Finding consistency\n",
    "\n",
    "In this exercise and throughout this chapter, you'll be working with the airlines DataFrame which contains survey responses on the San Francisco Airport from airline customers.\n",
    "\n",
    "The DataFrame contains flight metadata such as the airline, the destination, waiting times as well as answers to key questions regarding cleanliness, safety, and satisfaction. Another DataFrame named categories was created, containing all correct possible values for the survey columns.\n",
    "\n",
    "In this exercise, you will use both of these DataFrames to find survey answers with inconsistent values, and drop them, effectively performing an outer and inner join on both these DataFrames as seen in the video exercise. The pandas package has been imported as pd, and the airlines and categories DataFrames are in your environment.\n",
    "\n",
    "#### Instructions\n",
    "\n",
    "- Print the categories DataFrame and take a close look at all possible correct categories of the survey columns.\n",
    "- Print the unique values of the survey columns in airlines using the .unique() method.\n"
   ]
  },
  {
   "cell_type": "code",
   "execution_count": null,
   "id": "3f315478",
   "metadata": {},
   "outputs": [],
   "source": [
    "# Print categories DataFrame\n",
    "print(categories)\n",
    "\n",
    "# Print unique values of survey columns in airlines\n",
    "print('Cleanliness: ', airlines['cleanliness'].unique(), \"\\n\")\n",
    "print('Safety: ', airlines['safety'].unique(), \"\\n\")B\n",
    "print('Satisfaction: ', airlines['satisfaction'].unique(), \"\\n\")"
   ]
  },
  {
   "cell_type": "markdown",
   "id": "39793508",
   "metadata": {},
   "source": [
    "##### Question\n",
    "\n",
    "Take a look at the output. Out of the cleanliness, safety and satisfaction columns, which one has an inconsistent category and what is it?\n",
    "\n",
    "##### Possible Answers\n",
    "\n",
    "- cleanliness because it has an Unacceptable category. ✔\n",
    "\n",
    "- cleanliness because it has a Terribly dirty category. ❌\n",
    "\n",
    "- satisfaction because it has a Very satisfied category. ❌\n",
    "\n",
    "- safety because it has a Neutral category. ❌\n"
   ]
  },
  {
   "cell_type": "markdown",
   "id": "45e2d1d6",
   "metadata": {},
   "source": [
    "- Create a set out of the cleanliness column in airlines using set() and find the inconsistent category by finding the difference in the cleanliness column of categories.\n",
    "- Find rows of airlines with a cleanliness value not in categories and print the output.\n",
    "- Print the rows with the consistent categories of cleanliness only."
   ]
  },
  {
   "cell_type": "code",
   "execution_count": null,
   "id": "7eebad8a",
   "metadata": {},
   "outputs": [],
   "source": [
    "# Find the cleanliness category in airlines not in categories\n",
    "cat_clean = set(airlines['cleanliness']).difference(categories['cleanliness'])\n",
    "\n",
    "# Find rows with that category\n",
    "cat_clean_rows = airlines['cleanliness'].isin(cat_clean)\n",
    "\n",
    "# Print rows with inconsistent category\n",
    "print(airlines[cat_clean_rows])\n",
    "\n",
    "# Print rows with consistent categories only\n",
    "print(airlines[~cat_clean_rows])"
   ]
  },
  {
   "cell_type": "markdown",
   "id": "3955734f",
   "metadata": {},
   "source": [
    "## Categorical Variables\n",
    "\n",
    "### Inconsistent categories\n",
    "\n",
    "In this exercise, you'll be revisiting the airlines DataFrame from the previous lesson.\n",
    "\n",
    "As a reminder, the DataFrame contains flight metadata such as the airline, the destination, waiting times as well as answers to key questions regarding cleanliness, safety, and satisfaction on the San Francisco Airport.\n",
    "\n",
    "In this exercise, you will examine two categorical columns from this DataFrame, dest_region and dest_size respectively, assess how to address them and make sure that they are cleaned and ready for analysis. The pandas package has been imported as pd, and the airlines DataFrame is in your environment.\n",
    "\n",
    "#### Instructions\n",
    "\n",
    "- Print the unique values in dest_region and dest_size respectively."
   ]
  },
  {
   "cell_type": "code",
   "execution_count": null,
   "id": "895aa07e",
   "metadata": {},
   "outputs": [],
   "source": [
    "# Print unique values of both columns\n",
    "print(airlines['dest_region'].unique())\n",
    "print(airlines['dest_size'].unique())"
   ]
  },
  {
   "cell_type": "markdown",
   "id": "549597fa",
   "metadata": {},
   "source": [
    "##### Question\n",
    "\n",
    "From looking at the output, what do you think is the problem with these columns?\n",
    "\n",
    "##### Possible Answers\n",
    "\n",
    "- The dest_region column has only inconsistent values due to capitalization. ✔\n",
    "\n",
    "- The dest_region column has inconsistent values due to capitalization and has one value that needs to be remapped. ✔\n",
    "\n",
    "- The dest_size column has only inconsistent values due to leading and trailing spaces. ❌\n",
    "\n",
    "- Both 2 and 3 are correct. ✔\n",
    "\n"
   ]
  },
  {
   "cell_type": "markdown",
   "id": "f3a84760",
   "metadata": {},
   "source": [
    "- Change the capitalization of all values of dest_region to lowercase.\n",
    "- Replace the 'eur' with 'europe' in dest_region using the .replace() method.\n",
    "- Strip white spaces from the dest_size column using the .strip() method.\n",
    "- Verify that the changes have been into effect by printing the unique values of the columns using .unique() ."
   ]
  },
  {
   "cell_type": "code",
   "execution_count": null,
   "id": "e00ae907",
   "metadata": {},
   "outputs": [],
   "source": [
    "# Print unique values of both columns\n",
    "print(airlines['dest_region'].unique())\n",
    "print(airlines['dest_size'].unique())\n",
    "\n",
    "# Lower dest_region column and then replace \"eur\" with \"europe\"\n",
    "airlines['dest_region'] = airlines['dest_region'].str.lower()\n",
    "airlines['dest_region'] = airlines['dest_region'].replace({'eur':'europe'})\n",
    "\n",
    "# Remove white spaces from `dest_size`\n",
    "airlines['dest_size'] = airlines['dest_size'].str.strip()\n",
    "\n",
    "# Verify changes have been effected\n",
    "print(airlines['dest_region'].unique())\n",
    "print(airlines['dest_size'].unique())\n",
    "#print(airlines['dest_region'])"
   ]
  },
  {
   "cell_type": "markdown",
   "id": "35ac4faa",
   "metadata": {},
   "source": [
    "### Remapping categories\n",
    "\n",
    "To better understand survey respondents from airlines, you want to find out if there is a relationship between certain responses and the day of the week and wait time at the gate.\n",
    "\n",
    "The airlines DataFrame contains the day and wait_min columns, which are categorical and numerical respectively. The day column contains the exact day a flight took place, and wait_min contains the amount of minutes it took travelers to wait at the gate. To make your analysis easier, you want to create two new categorical variables:\n",
    "\n",
    "- wait_type: 'short' for 0-60 min, 'medium' for 60-180 and long for 180+\n",
    "- day_week: 'weekday' if day is in the weekday, 'weekend' if day is in the weekend.\n",
    "\n",
    "The pandas and numpy packages have been imported as pd and np. Let's create some new categorical data!\n",
    "\n",
    "#### Instructions\n",
    "\n",
    "- Create the ranges and labels for the wait_type column mentioned in the description.\n",
    "- Create the wait_type column by from wait_min by using pd.cut(), while inputting label_ranges and label_names in the correct arguments.\n",
    "- Create the mapping dictionary mapping weekdays to 'weekday' and weekend days to 'weekend'.\n",
    "- Create the day_week column by using .replace()."
   ]
  },
  {
   "cell_type": "code",
   "execution_count": null,
   "id": "4e41b341",
   "metadata": {},
   "outputs": [],
   "source": [
    "# Create ranges for categories\n",
    "label_ranges = [0, 60, 180, np.inf]\n",
    "label_names = ['short', 'medium', 'long']\n",
    "# Create wait_type column\n",
    "airlines['wait_type'] = pd.cut(airlines['wait_min'], bins = label_ranges, \n",
    "                                labels = label_names)\n",
    "# Create mappings and replace\n",
    "mappings = {'Monday':'weekday', 'Tuesday':'weekday', 'Wednesday':'weekday', \n",
    "            'Thursday':'weekday', 'Friday':'weekday', \n",
    "            'Saturday':'weekend', 'Sunday':'weekend'}\n",
    "airlines['day_week'] = airlines['day'].replace(mappings)"
   ]
  },
  {
   "cell_type": "markdown",
   "id": "d137f8ca",
   "metadata": {},
   "source": [
    "## Cleaning text data\n",
    "\n",
    "### Keeping it descriptive\n",
    "\n",
    "To further understand travelers' experiences in the San Francisco Airport, the quality assurance department sent out a qualitative questionnaire to all travelers who gave the airport the worst score on all possible categories. The objective behind this questionnaire is to identify common patterns in what travelers are saying about the airport.\n",
    "\n",
    "Their response is stored in the survey_response column. Upon a closer look, you realized a few of the answers gave the shortest possible character amount without much substance. In this exercise, you will isolate the responses with a character count higher than 40 , and make sure your new DataFrame contains responses with 40 characters or more using an assert statement.\n",
    "\n",
    "The airlines DataFrame is in your environment, and pandas is imported as pd.\n",
    "\n",
    "#### Instructions\n",
    "\n",
    "- Using the airlines DataFrame, store the length of each instance in the survey_response column in resp_length by using .str.len().\n",
    "- Isolate the rows of airlines with resp_length higher than 40.\n",
    "- Assert that the smallest survey_response length in airlines_survey is now bigger than 40."
   ]
  },
  {
   "cell_type": "code",
   "execution_count": null,
   "id": "157e7a15",
   "metadata": {},
   "outputs": [],
   "source": [
    "# Store length of each row in survey_response column\n",
    "resp_length = airlines['survey_response'].str.len()\n",
    "# Find rows in airlines where resp_length > 40\n",
    "airlines_survey = airlines[resp_length > 40]\n",
    "# Assert minimum survey_response length is > 40\n",
    "assert airlines_survey['survey_response'].str.len().min() > 40\n",
    "# Print new survey_response column\n",
    "print(airlines_survey['survey_response'])"
   ]
  },
  {
   "cell_type": "markdown",
   "id": "4fc69b71",
   "metadata": {},
   "source": [
    "## Uniformity\n",
    "\n",
    "### Ambiguous dates\n",
    "\n",
    "You have a DataFrame containing a subscription_date column that was collected from various sources with different Date formats such as YYYY-mm-dd and YYYY-dd-mm. What is the best way to unify the formats for ambiguous values such as 2019-04-07?\n",
    "\n",
    "##### Possible Answers\n",
    "\n",
    "- Set them to NA and drop them. \n",
    "\n",
    "- Infer the format of the data in question by checking the format of subsequent and previous values.\n",
    "\n",
    "- Infer the format from the original data source.\n",
    "\n",
    "- All of the above are possible, as long as we investigate where our data comes from, and understand the dynamics affecting it before cleaning it. ✔\n",
    "\n",
    "### Uniform currencies\n",
    "\n",
    "In this exercise and throughout this chapter, you will be working with a retail banking dataset stored in the banking DataFrame. The dataset contains data on the amount of money stored in accounts (acct_amount), their currency (acct_cur), amount invested (inv_amount), account opening date (account_opened), and last transaction date (last_transaction) that were consolidated from American and European branches.\n",
    "\n",
    "You are tasked with understanding the average account size and how investments vary by the size of account, however in order to produce this analysis accurately, you first need to unify the currency amount into dollars. The pandas package has been imported as pd, and the banking DataFrame is in your environment.\n",
    "\n",
    "#### Instructions\n",
    "\n",
    "- Find the rows of acct_cur in banking that are equal to 'euro' and store them in the variable acct_eu.\n",
    "- Find all the rows of acct_amount in banking that fit the acct_eu condition, and convert them to USD by multiplying them with 1.1.\n",
    "- Find all the rows of acct_cur in banking that fit the acct_eu condition, set them to 'dollar'."
   ]
  },
  {
   "cell_type": "code",
   "execution_count": null,
   "id": "bc2a38ff",
   "metadata": {},
   "outputs": [],
   "source": [
    "# Find values of acct_cur that are equal to 'euro'\n",
    "acct_eu = banking['acct_cur'] == 'euro'\n",
    "# Convert acct_amount where it is in euro to dollars\n",
    "banking.loc[banking['acct_cur']== 'euro', 'acct_amount'] = banking.loc[banking['acct_cur'] == 'euro', 'acct_amount'] * 1.1\n",
    "# Unify acct_cur column by changing 'euro' values to 'dollar'\n",
    "banking.loc[banking['acct_cur'] == 'euro', 'acct_cur'] =  \"dollar\"\n",
    "# Assert that only dollar currency remains\n",
    "assert banking['acct_cur'].unique() == 'dollar'"
   ]
  },
  {
   "cell_type": "markdown",
   "id": "d6e0a813",
   "metadata": {},
   "source": [
    "### Uniform dates\n",
    "\n",
    "After having unified the currencies of your different account amounts, you want to add a temporal dimension to your analysis and see how customers have been investing their money given the size of their account over each year. The account_opened column represents when customers opened their accounts and is a good proxy for segmenting customer activity and investment over time.\n",
    "\n",
    "However, since this data was consolidated from multiple sources, you need to make sure that all dates are of the same format. You will do so by converting this column into a datetime object, while making sure that the format is inferred and potentially incorrect formats are set to missing. The banking DataFrame is in your environment and pandas was imported as pd.\n",
    "\n",
    "#### Instructions\n",
    "\n",
    "- Print the header of account_opened from the banking DataFrame and take a look at the different results."
   ]
  },
  {
   "cell_type": "code",
   "execution_count": null,
   "id": "65c49e71",
   "metadata": {},
   "outputs": [],
   "source": [
    "# Print the header of account_opened\n",
    "print(banking['account_opened'].head())"
   ]
  },
  {
   "cell_type": "markdown",
   "id": "3cc165fb",
   "metadata": {},
   "source": [
    "##### Question\n",
    "\n",
    "Take a look at the output. You tried converting the values to datetime using the default to_datetime() function without changing any argument, however received the following error:\n",
    "\n",
    "ValueError: month must be in 1..12\n",
    "Why do you think that is?\n",
    "\n",
    "##### Possible Answers\n",
    "\n",
    "- The to_datetime() function needs to be explicitly told which date format each row is in. ❌\n",
    "\n",
    "- The to_datetime() function can only be applied on YY-mm-dd date formats. ❌\n",
    "\n",
    "- The 21-14-17 entry is erroneous and leads to an error. ✔\n",
    "\n"
   ]
  },
  {
   "cell_type": "markdown",
   "id": "2ecb0ff5",
   "metadata": {},
   "source": [
    "- Convert the account_opened column to datetime, while making sure the date format is inferred and that erroneous formats that raise error return a missing value.\n",
    "- Extract the year from the amended account_opened column and assign it to the acct_year column.\n",
    "- Print the newly created acct_year column."
   ]
  },
  {
   "cell_type": "code",
   "execution_count": null,
   "id": "f2675e46",
   "metadata": {},
   "outputs": [],
   "source": [
    "# Print the header of account_opened\n",
    "print(banking['account_opened'].head())\n",
    "# Convert account_opened to datetime\n",
    "banking['account_opened'] = pd.to_datetime(banking['account_opened'],\n",
    "                                           # Infer datetime format\n",
    "                                           infer_datetime_format = True,\n",
    "                                           # Return missing value for error\n",
    "                                           errors = 'coerce')\n",
    "\n",
    "# Get year of account opened\n",
    "banking['acct_year'] = banking['account_opened'].dt.strftime('%Y')\n",
    "\n",
    "# Print acct_year\n",
    "print(banking['acct_year'])"
   ]
  },
  {
   "cell_type": "markdown",
   "id": "14b52f71",
   "metadata": {},
   "source": [
    "## Cross field validation\n",
    "\n",
    "### How's our data integrity?\n",
    "\n",
    "New data has been merged into the banking DataFrame that contains details on how investments in the inv_amount column are allocated across four different funds A, B, C and D.\n",
    "\n",
    "Furthermore, the age and birthdays of customers are now stored in the age and birth_date columns respectively.\n",
    "\n",
    "You want to understand how customers of different age groups invest. However, you want to first make sure the data you're analyzing is correct. You will do so by cross field checking values of inv_amount and age against the amount invested in different funds and customers' birthdays. Both pandas and datetime have been imported as pd and dt respectively.\n",
    "\n",
    "#### Instructions\n",
    "- Find the rows where the sum of all rows of the fund_columns in banking are equal to the inv_amount column.\n",
    "- Store the values of banking with consistent inv_amount in consistent_inv, and those with inconsistent ones in inconsistent_inv."
   ]
  },
  {
   "cell_type": "code",
   "execution_count": null,
   "id": "f5335e70",
   "metadata": {},
   "outputs": [],
   "source": [
    "# Store fund columns to sum against\n",
    "fund_columns = ['fund_A', 'fund_B', 'fund_C', 'fund_D']\n",
    "# Find rows where fund_columns row sum == inv_amount\n",
    "inv_equ = banking[fund_columns].sum(axis = 1) == banking['inv_amount']\n",
    "# Store consistent and inconsistent data\n",
    "consistent_inv = banking[inv_equ]\n",
    "inconsistent_inv = banking[~inv_equ]\n",
    "# Store consistent and inconsistent data\n",
    "print(\"Number of inconsistent investments: \", inconsistent_inv.shape[0])"
   ]
  },
  {
   "cell_type": "markdown",
   "id": "b0b51032",
   "metadata": {},
   "source": [
    "- Store today's date into today, and manually calculate customers' ages and store them in ages_manual.\n",
    "- Find all rows of banking where the age column is equal to ages_manual and then filter banking into consistent_ages and inconsistent_ages."
   ]
  },
  {
   "cell_type": "code",
   "execution_count": null,
   "id": "42759007",
   "metadata": {},
   "outputs": [],
   "source": [
    "# Store today's date and find ages\n",
    "today = dt.date.today()\n",
    "ages_manual = today.year - banking['birth_date'].dt.year\n",
    "\n",
    "# Find rows where age column == ages_manual\n",
    "age_equ = ages_manual == banking['age']\n",
    "\n",
    "# Store consistent and inconsistent data\n",
    "consistent_ages = banking[age_equ]\n",
    "inconsistent_ages = banking[~age_equ]\n",
    "\n",
    "# Store consistent and inconsistent data\n",
    "print(\"Number of inconsistent ages: \", inconsistent_ages.shape[0])"
   ]
  },
  {
   "cell_type": "markdown",
   "id": "e67d7e87",
   "metadata": {},
   "source": [
    "## Completeness\n",
    "\n",
    "### Is this missing at random?\n",
    "\n",
    "You've seen in the video exercise how there are a variety of missingness types when observing missing data. As a reminder, missingness types can be described as the following:\n",
    "\n",
    "Missing Completely at Random: No systematic relationship between a column's missing values and other or own values.\n",
    "Missing at Random: There is a systematic relationship between a column's missing values and other observed values.\n",
    "Missing not at Random: There is a systematic relationship between a column's missing values and unobserved values.\n",
    "You have a DataFrame containing customer satisfaction scores for a service. What type of missingness is the following?\n",
    "\n",
    "                              A customer satisfaction_score column with missing values for highly dissatisfied customers.\n",
    "\n",
    "##### Possible Answers\n",
    "\n",
    "- Missing completely at random. ❌\n",
    "\n",
    "- Missing at random. ❌\n",
    "\n",
    "- Missing not at random. ✔\n",
    "\n",
    "### Missing investors\n",
    "\n",
    "Dealing with missing data is one of the most common tasks in data science. There are a variety of types of missingness, as well as a variety of types of solutions to missing data.\n",
    "\n",
    "You just received a new version of the banking DataFrame containing data on the amount held and invested for new and existing customers. However, there are rows with missing inv_amount values.\n",
    "\n",
    "You know for a fact that most customers below 25 do not have investment accounts yet, and suspect it could be driving the missingness. The pandas, missingno and matplotlib.pyplot packages have been imported as pd, msno and plt respectively. The banking DataFrame is in your environment.\n",
    "\n",
    "#### Instructions\n",
    "\n",
    "- Print the number of missing values by column in the banking DataFrame.\n",
    "- Plot and show the missingness matrix of banking with the msno.matrix() function.\n",
    "- Isolate the values of banking missing values of inv_amount into missing_investors and with non-missing inv_amount values into investors.\n",
    "- Sort the banking DataFrame by the age column and plot the missingness matrix of banking_sorted."
   ]
  },
  {
   "cell_type": "code",
   "execution_count": null,
   "id": "9dc9fc72",
   "metadata": {},
   "outputs": [],
   "source": [
    "# Print number of missing values in banking\n",
    "print(banking.isna().sum())\n",
    "\n",
    "# Visualize missingness matrix\n",
    "msno.matrix(banking)\n",
    "plt.show()\n",
    "\n",
    "# Isolate missing and non missing values of inv_amount\n",
    "missing_investors = banking[banking['inv_amount'].isna()]\n",
    "investors = banking[~banking['inv_amount'].isna()]\n",
    "\n",
    "# Sort banking by age and visualize\n",
    "banking_sorted = banking.sort_values(by = 'age')\n",
    "msno.matrix(banking_sorted)\n",
    "plt.show()"
   ]
  },
  {
   "cell_type": "markdown",
   "id": "09e1a68c",
   "metadata": {},
   "source": [
    "##### Question\n",
    "\n",
    "Now that you've isolated banking into investors and missing_investors, use the .describe() method on both of these DataFrames in the IPython shell to understand whether there are structural differences between them. What do you think is going on?\n",
    "\n",
    "##### Possible Answers\n",
    "\n",
    "- The data is missing completely at random and there are no drivers behind the missingness. ❌\n",
    "\n",
    "- The inv_amount is missing only for young customers, since the average age in missing_investors is 22 and the maximum age is 25. ✔\n",
    "\n",
    "- The inv_amount is missing only for old customers, since the average age in missing_investors is 42 and the maximum age is 59. ❌\n",
    "\n"
   ]
  },
  {
   "cell_type": "markdown",
   "id": "b073e312",
   "metadata": {},
   "source": [
    "### Follow the money\n",
    "\n",
    "In this exercise, you're working with another version of the banking DataFrame that contains missing values for both the cust_id column and the acct_amount column.\n",
    "\n",
    "You want to produce analysis on how many unique customers the bank has, the average amount held by customers and more. You know that rows with missing cust_id don't really help you, and that on average acct_amount is usually 5 times the amount of inv_amount.\n",
    "\n",
    "In this exercise, you will drop rows of banking with missing cust_ids, and impute missing values of acct_amount with some domain knowledge.\n",
    "\n",
    "#### Instructions\n",
    "\n",
    "- Use .dropna() to drop missing values of the cust_id column in banking and store the results in banking_fullid.\n",
    "- Use inv_amount to compute the estimated account amounts for banking_fullid by setting the amounts equal to inv_amount * 5, and assign the results to acct_imp.\n",
    "- Impute the missing values of acct_amount in banking_fullid with the newly created acct_imp using .fillna()."
   ]
  },
  {
   "cell_type": "code",
   "execution_count": null,
   "id": "0c3fdee7",
   "metadata": {},
   "outputs": [],
   "source": [
    "# Drop missing values of cust_id\n",
    "banking_fullid = banking.dropna(subset = ['cust_id'])\n",
    "# Compute estimated acct_amount\n",
    "acct_imp = banking_fullid['inv_amount'] * 5\n",
    "# Impute missing acct_amount with corresponding acct_imp\n",
    "banking_imputed = banking_fullid.fillna({'acct_amount':acct_imp})\n",
    "# Print number of missing values\n",
    "print(banking_imputed.isna().sum())"
   ]
  },
  {
   "cell_type": "markdown",
   "id": "325d767e",
   "metadata": {},
   "source": [
    "## Comparing strings\n",
    "\n",
    "### Minimum edit distance\n",
    "In the video exercise, you saw how minimum edit distance is used to identify how similar two strings are. As a reminder, minimum edit distance is the minimum number of steps needed to reach from String A to String B, with the operations available being:\n",
    "\n",
    "Insertion of a new character.\n",
    "Deletion of an existing character.\n",
    "Substitution of an existing character.\n",
    "Transposition of two existing consecutive characters.\n",
    "\n",
    "                    What is the minimum edit distance from 'sign' to 'sing', and which operation(s) gets you there?\n",
    "                    \n",
    "                   \n",
    "\n",
    "##### Possible Answers\n",
    "\n",
    "- 2 by substituting 'g' with 'n' and 'n' with 'g'.\n",
    "\n",
    "- 1 by transposing 'g' with 'n'.\n",
    "\n",
    "- 1 by substituting 'g' with 'n'.\n",
    "\n",
    "- 2 by deleting 'g' and inserting a new 'g' at the end."
   ]
  },
  {
   "cell_type": "markdown",
   "id": "60df5009",
   "metadata": {},
   "source": [
    "### The cutoff point\n",
    "\n",
    "In this exercise, and throughout this chapter, you'll be working with the restaurants DataFrame which has data on various restaurants. Your ultimate goal is to create a restaurant recommendation engine, but you need to first clean your data.\n",
    "\n",
    "This version of restaurants has been collected from many sources, where the cuisine_type column is riddled with typos, and should contain only italian, american and asian cuisine types. There are so many unique categories that remapping them manually isn't scalable, and it's best to use string similarity instead.\n",
    "\n",
    "Before doing so, you want to establish the cutoff point for the similarity score using the fuzzywuzzy's process.extract() function by finding the similarity score of the most distant typo of each category.\n",
    "\n",
    "#### Instructions\n",
    "\n",
    "- Import process from fuzzywuzzy.\n",
    "- Store the unique cuisine_types into unique_types.\n",
    "- Calculate the similarity of 'asian', 'american', and 'italian' to all possible cuisine_types using process.extract(), while returning all possible matches."
   ]
  },
  {
   "cell_type": "code",
   "execution_count": null,
   "id": "9b7ac54a",
   "metadata": {},
   "outputs": [],
   "source": [
    "# Import process from fuzzywuzzy\n",
    "from fuzzywuzzy import process\n",
    "# Store the unique values of cuisine_type in unique_types\n",
    "unique_types = restaurants['cuisine_type'].unique()\n",
    "# Calculate similarity of 'asian' to all values of unique_types\n",
    "print(process.extract('asian', unique_types, limit = len(unique_types)))\n",
    "# Calculate similarity of 'american' to all values of unique_types\n",
    "print(process.extract('american', unique_types, limit = len(unique_types)))\n",
    "# Calculate similarity of 'italian' to all values of unique_types\n",
    "print(process.extract('italian', unique_types, limit =len(unique_types)))"
   ]
  },
  {
   "cell_type": "markdown",
   "id": "b7fd119a",
   "metadata": {},
   "source": [
    "##### Question\n",
    "Take a look at the output, what do you think should be the similarity cutoff point when remapping categories?\n",
    "\n",
    "##### Possible Answers\n",
    "\n",
    "- 80 ✔\n",
    "\n",
    "- 70 ❌\n",
    "\n",
    "- 60 ❌"
   ]
  },
  {
   "cell_type": "markdown",
   "id": "5ed72961",
   "metadata": {},
   "source": [
    "### Remapping categories II\n",
    "\n",
    "In the last exercise, you determined that the distance cutoff point for remapping typos of 'american', 'asian', and 'italian' cuisine types stored in the cuisine_type column should be 80.\n",
    "\n",
    "In this exercise, you're going to put it all together by finding matches with similarity scores equal to or higher than 80 by using fuzywuzzy.process's extract() function, for each correct cuisine type, and replacing these matches with it. Remember, when comparing a string with an array of strings using process.extract(), the output is a list of tuples where each is formatted like:\n",
    "\n",
    "(closest match, similarity score, index of match)\n",
    "\n",
    "The restaurants DataFrame is in your environment, and you have access to a categories list containing the correct cuisine types ('italian', 'asian', and 'american').\n",
    "\n",
    "#### Instructions\n",
    "- Return all of the unique values in the cuisine_type column of restaurants."
   ]
  },
  {
   "cell_type": "code",
   "execution_count": null,
   "id": "741e8845",
   "metadata": {},
   "outputs": [],
   "source": [
    "# Inspect the unique values of the cuisine_type column\n",
    "print(restaurants['cuisine_type'].unique())"
   ]
  },
  {
   "cell_type": "markdown",
   "id": "c98cf533",
   "metadata": {},
   "source": [
    "Okay! Looks like you will need to use some string matching to correct these misspellings!\n",
    "\n",
    "- As a first step, create a list of all possible matches, comparing 'italian' with the restaurant types listed in the cuisine_type column."
   ]
  },
  {
   "cell_type": "code",
   "execution_count": null,
   "id": "2b3fcade",
   "metadata": {},
   "outputs": [],
   "source": [
    "# Create a list of matches, comparing 'italian' with the cuisine_type column\n",
    "matches = process.extract('italian', restaurants['cuisine_type'], limit = restaurants.shape[0])\n",
    "\n",
    "# Inspect the first 5 matches\n",
    "print(matches[0:5])"
   ]
  },
  {
   "cell_type": "markdown",
   "id": "4b93fda4",
   "metadata": {},
   "source": [
    "Now you're getting somewhere! Now you can iterate through matches to reassign similar entries.\n",
    "\n",
    "- Within the for loop, use an if statement to check whether the similarity score in each match is greater than or equal to 80.\n",
    "- If it is, use .loc to select rows where cuisine_type in restaurants is equal to the current match (which is the first element of match), and reassign them to be 'italian'."
   ]
  },
  {
   "cell_type": "code",
   "execution_count": null,
   "id": "e32bd3e9",
   "metadata": {},
   "outputs": [],
   "source": [
    "# Create a list of matches, comparing 'italian' with the cuisine_type column\n",
    "matches = process.extract('italian', restaurants['cuisine_type'], limit=len(restaurants.cuisine_type))\n",
    "\n",
    "# Iterate through the list of matches to italian\n",
    "for match in matches:\n",
    "  # Check whether the similarity score is greater than or equal to 80\n",
    "  if match[1] >= 80:\n",
    "    # Select all rows where the cuisine_type is spelled this way, and set them to the correct cuisine\n",
    "    restaurants.loc[restaurants['cuisine_type'] == match[0], 'cuisine_type'] = 'italian'"
   ]
  },
  {
   "cell_type": "markdown",
   "id": "2fef2cf0",
   "metadata": {},
   "source": [
    "Finally, you'll adapt your code to work with every restaurant type in categories.\n",
    "\n",
    "- Using the variable cuisine to iterate through categories, embed your code from the previous step in an outer for loop.\n",
    "- Inspect the final result. This has been done for you."
   ]
  },
  {
   "cell_type": "code",
   "execution_count": null,
   "id": "a2d91bdb",
   "metadata": {},
   "outputs": [],
   "source": [
    "# Iterate through categories\n",
    "for cuisine in categories:  \n",
    "  # Create a list of matches, comparing cuisine with the cuisine_type column\n",
    "  matches = process.extract(cuisine, restaurants['cuisine_type'], limit=len(restaurants.cuisine_type))\n",
    "\n",
    "  # Iterate through the list of matches\n",
    "  for match in matches:\n",
    "     # Check whether the similarity score is greater than or equal to 80\n",
    "    if match[1] >= 80:\n",
    "      # If it is, select all rows where the cuisine_type is spelled this way, and set them to the correct cuisine\n",
    "      restaurants.loc[restaurants['cuisine_type'] == match[0]] = cuisine\n",
    "      \n",
    "# Inspect the final result\n",
    "print(restaurants['cuisine_type'].unique())"
   ]
  },
  {
   "cell_type": "markdown",
   "id": "1285c906",
   "metadata": {},
   "source": [
    "## Generating pairs\n",
    "\n",
    "### Pairs of restaurants\n",
    "\n",
    "In the last lesson, you cleaned the restaurants dataset to make it ready for building a restaurants recommendation engine. You have a new DataFrame named restaurants_new with new restaurants to train your model on, that's been scraped from a new data source.\n",
    "\n",
    "You've already cleaned the cuisine_type and city columns using the techniques learned throughout the course. However you saw duplicates with typos in restaurants names that require record linkage instead of joins with restaurants.\n",
    "\n",
    "In this exercise, you will perform the first step in record linkage and generate possible pairs of rows between restaurants and restaurants_new. Both DataFrames, pandas and recordlinkage are in your environment.\n",
    "\n",
    "#### Instructions\n",
    "\n",
    "- Instantiate an indexing object by using the Index() function from recordlinkage.\n",
    "- Block your pairing on cuisine_type by using indexer's' .block() method.\n",
    "- Generate pairs by indexing restaurants and restaurants_new in that order."
   ]
  },
  {
   "cell_type": "code",
   "execution_count": null,
   "id": "93ac516e",
   "metadata": {},
   "outputs": [],
   "source": [
    "# Create an indexer and object and find possible pairs\n",
    "indexer = recordlinkage.Index()\n",
    "\n",
    "# Block pairing on cuisine_type\n",
    "indexer.block('cuisine_type')\n",
    "\n",
    "# Generate pairs\n",
    "pairs = indexer.index(restaurants, restaurants_new)"
   ]
  },
  {
   "cell_type": "markdown",
   "id": "37504f89",
   "metadata": {},
   "source": [
    "##### Question\n",
    "Now that you've generated your pairs, you've achieved the first step of record linkage. What are the steps remaining to link both restaurants DataFrames, and in what order?\n",
    "\n",
    "##### Possible Answers\n",
    "\n",
    "- Compare between columns, score the comparison, then link the DataFrames. ✔\n",
    "\n",
    "- Clean the data, compare between columns, link the DataFrames, then score the comparison. ❌\n",
    "\n",
    "- Clean the data, compare between columns, score the comparison, then link the DataFrames. ❌"
   ]
  },
  {
   "cell_type": "markdown",
   "id": "50173639",
   "metadata": {},
   "source": [
    "### Similar restaurants\n",
    "In the last exercise, you generated pairs between restaurants and restaurants_new in an effort to cleanly merge both DataFrames using record linkage.\n",
    "\n",
    "When performing record linkage, there are different types of matching you can perform between different columns of your DataFrames, including exact matches, string similarities, and more.\n",
    "\n",
    "Now that your pairs have been generated and stored in pairs, you will find exact matches in the city and cuisine_type columns between each pair, and similar strings for each pair in the rest_name column. Both DataFrames, pandas and recordlinkage are in your environment.\n",
    "\n",
    "#### Instructions\n",
    "- Instantiate a comparison object using the recordlinkage.Compare() function.\n",
    "- Use the appropriate comp_cl method to find exact matches between the city and cuisine_type columns of both DataFrames.\n",
    "- Use the appropriate comp_cl method to find similar strings with a 0.8 similarity threshold in the rest_name column of both DataFrames.\n",
    "- Compute the comparison of the pairs by using the .compute() method of comp_cl."
   ]
  },
  {
   "cell_type": "code",
   "execution_count": null,
   "id": "90bdd5ae",
   "metadata": {},
   "outputs": [],
   "source": [
    "# Create a comparison object\n",
    "comp_cl = recordlinkage.Compare()\n",
    "\n",
    "# Find exact matches on city, cuisine_types \n",
    "comp_cl.exact('city', 'city', label='city')\n",
    "comp_cl.exact('cuisine_type', 'cuisine_type', label = 'cuisine_type')\n",
    "\n",
    "# Find similar matches of rest_name\n",
    "comp_cl.string('rest_name', 'rest_name', label='name', threshold = 0.8) \n",
    "\n",
    "# Get potential matches and print\n",
    "potential_matches = comp_cl.compute(pairs, restaurants, restaurants_new)\n",
    "print(potential_matches)"
   ]
  },
  {
   "cell_type": "markdown",
   "id": "c17233a7",
   "metadata": {},
   "source": [
    "##### Question\n",
    "Print out potential_matches, the columns are the columns being compared, with values being 1 for a match, and 0 for not a match for each pair of rows in your DataFrames. To find potential matches, you need to find rows with more than matching value in a column. You can find them with\n",
    "\n",
    "potential_matches[potential_matches.sum(axis = 1) >= n]\n",
    "Where n is the minimum number of columns you want matching to ensure a proper duplicate find, what do you think should the value of n be?\n",
    "\n",
    "##### Possible Answers\n",
    "\n",
    "- 3 because I need to have matches in all my columns. ✔\n",
    "\n",
    "- 2 because matching on any of the 2 columns or more is enough to find potential duplicates. ❌\n",
    "\n",
    "- 1 because matching on just 1 column like the restaurant name is enough to find potential duplicates. ❌"
   ]
  },
  {
   "cell_type": "markdown",
   "id": "92f7d49a",
   "metadata": {},
   "source": [
    "### Linking DataFrames\n",
    "\n",
    "#### Getting the right index\n",
    "\n",
    "Here's a DataFrame named matches containing potential matches between two DataFrames, users_1 and users_2. Each DataFrame's row indices is stored in uid_1 and uid_2 respectively.\n",
    "\n",
    "             first_name  address_1  address_2  marriage_status  date_of_birth\n",
    "uid_1 uid_2                                                                  \n",
    "0     3              1          1          1                1              0\n",
    "     ...            ...         ...        ...              ...            ...\n",
    "     ...            ...         ...        ...              ...            ...\n",
    "1     3              1          1          1                1              0\n",
    "     ...            ...         ...        ...              ...            ...\n",
    "     ...            ...         ...        ...              ...            ...\n",
    "How do you extract all values of the uid_1 index column?\n",
    "\n",
    "##### Possible Answers\n",
    "\n",
    "- matches.index.get_level_values(0) ✔\n",
    "\n",
    "- matches.index.get_level_values(1) ❌ \n",
    "\n",
    "- matches.index.get_level_values('uid_1') ✔\n",
    "\n",
    "- Both 1 and 3 are correct.✔"
   ]
  },
  {
   "cell_type": "markdown",
   "id": "223a4bd7",
   "metadata": {},
   "source": [
    "### Linking them together!\n",
    "\n",
    "In the last lesson, you've finished the bulk of the work on your effort to link restaurants and restaurants_new. You've generated the different pairs of potentially matching rows, searched for exact matches between the cuisine_type and city columns, but compared for similar strings in the rest_name column. You stored the DataFrame containing the scores in potential_matches.\n",
    "\n",
    "Now it's finally time to link both DataFrames. You will do so by first extracting all row indices of restaurants_new that are matching across the columns mentioned above from potential_matches. Then you will subset restaurants_new on these indices, then append the non-duplicate values to restaurants. All DataFrames are in your environment, alongside pandas imported as pd.\n",
    "\n",
    "#### Instructions\n",
    "- Isolate instances of potential_matches where the row sum is above or equal to 3 by using the .sum() method.\n",
    "- Extract the second column index from matches, which represents row indices of matching record from restaurants_new by using the .get_level_values() method.\n",
    "- Subset restaurants_new for rows that are not in matching_indices.\n",
    "- Append non_dup to restaurants."
   ]
  },
  {
   "cell_type": "code",
   "execution_count": null,
   "id": "983f2b1d",
   "metadata": {},
   "outputs": [],
   "source": [
    "# Isolate potential matches with row sum >=3\n",
    "matches = potential_matches[potential_matches.sum(axis = 1) >= 3]\n",
    "\n",
    "# Get values of second column index of matches\n",
    "matching_indices = matches.index.get_level_values(1)\n",
    "\n",
    "# Subset restaurants_new based on non-duplicate values\n",
    "non_dup = restaurants_new[~restaurants_new.index.isin(matching_indices)]\n",
    "\n",
    "# Append non_dup to restaurants \n",
    "full_restaurants = restaurants.append(non_dup)\n",
    "print(full_restaurants)"
   ]
  }
 ],
 "metadata": {
  "kernelspec": {
   "display_name": "Python 3",
   "language": "python",
   "name": "python3"
  },
  "language_info": {
   "codemirror_mode": {
    "name": "ipython",
    "version": 3
   },
   "file_extension": ".py",
   "mimetype": "text/x-python",
   "name": "python",
   "nbconvert_exporter": "python",
   "pygments_lexer": "ipython3",
   "version": "3.8.8"
  }
 },
 "nbformat": 4,
 "nbformat_minor": 5
}
